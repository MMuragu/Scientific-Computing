{
 "cells": [
  {
   "cell_type": "code",
   "execution_count": null,
   "id": "46805c15",
   "metadata": {},
   "outputs": [],
   "source": [
    "import requests\n",
    "import pandas as pd\n",
    "import matplotlib.pyplot as plt\n",
    "import seaborn as sns\n",
    "import os\n",
    "from matplotlib.gridspec import GridSpec"
   ]
  },
  {
   "cell_type": "code",
   "execution_count": null,
   "id": "9718c12a",
   "metadata": {},
   "outputs": [],
   "source": [
    "# API endpoint and data fetch\n",
    "url = \"https://www.thesportsdb.com/api/v1/json/3/lookuptable.php?l=4328&s=2023-2024\"\n",
    "response = requests.get(url)\n",
    "data = response.json()"
   ]
  },
  {
   "cell_type": "code",
   "execution_count": null,
   "id": "69ad627d",
   "metadata": {},
   "outputs": [],
   "source": [
    "# Data processing with type conversion\n",
    "teams = []\n",
    "for team in data['table']:\n",
    "    teams.append({\n",
    "        \"Team\": team[\"strTeam\"],\n",
    "        \"Position\": int(team[\"intRank\"]),\n",
    "        \"Wins\": int(team[\"intWin\"]),\n",
    "        \"Draws\": int(team[\"intDraw\"]),\n",
    "        \"Losses\": int(team[\"intLoss\"]),\n",
    "        \"GoalsFor\": int(team[\"intGoalsFor\"]),\n",
    "        \"GoalsAgainst\": int(team[\"intGoalsAgainst\"]),\n",
    "        \"GoalDifference\": int(team[\"intGoalDifference\"]),\n",
    "        \"Points\": int(team[\"intPoints\"]),\n",
    "    })"
   ]
  },
  {
   "cell_type": "code",
   "execution_count": null,
   "id": "43d7ba6b",
   "metadata": {
    "lines_to_next_cell": 2
   },
   "outputs": [],
   "source": [
    "df = pd.DataFrame(teams).sort_values(by=\"Points\", ascending=False)"
   ]
  },
  {
   "cell_type": "code",
   "execution_count": null,
   "id": "48f8539a",
   "metadata": {
    "lines_to_next_cell": 1
   },
   "outputs": [],
   "source": [
    "df.to_csv(\"Premier_league.csv\", index=False)"
   ]
  },
  {
   "cell_type": "code",
   "execution_count": null,
   "id": "56b87246",
   "metadata": {
    "lines_to_next_cell": 1
   },
   "outputs": [],
   "source": [
    "def save_to_txt(filename, data_frame):\n",
    "    with open(filename, 'w', encoding='utf-8') as f:\n",
    "        f.write(\"PREMIER LEAGUE TEAM STATS 2023-2024\\n\")\n",
    "        f.write(\"=\"*50 + \"\\n\\n\")\n",
    "        for _, row in data_frame.iterrows():\n",
    "            f.write(f\"{row['Position']}. {row['Team']}\\n\")\n",
    "            f.write(f\"   Points: {row['Points']} | Record: {row['Wins']}W-{row['Draws']}D-{row['Losses']}L\\n\")\n",
    "            f.write(f\"   Goals: {row['GoalsFor']}F {row['GoalsAgainst']}A (Diff: {row['GoalDifference']})\\n\")\n",
    "            f.write(\"-\"*50 + \"\\n\")"
   ]
  },
  {
   "cell_type": "code",
   "execution_count": null,
   "id": "856b6aa0",
   "metadata": {},
   "outputs": [],
   "source": [
    "save_to_txt(\"Premier_League2023-2024.txt\", df)"
   ]
  },
  {
   "cell_type": "code",
   "execution_count": null,
   "id": "363d66d9",
   "metadata": {},
   "outputs": [],
   "source": [
    "#dashboard creation\n",
    "plt.figure(figsize=(18, 13))\n",
    "plt.suptitle(\"Premier League 2023-2024 Season Analysis\", fontsize=14, y=1.02)"
   ]
  },
  {
   "cell_type": "code",
   "execution_count": null,
   "id": "56813bc6",
   "metadata": {},
   "outputs": [],
   "source": [
    "gs = GridSpec(3, 3, figure=plt.gcf())"
   ]
  },
  {
   "cell_type": "code",
   "execution_count": null,
   "id": "d021041f",
   "metadata": {},
   "outputs": [],
   "source": [
    "# Performance Scatter Plot\n",
    "ax1 = plt.subplot(gs[0, 0])\n",
    "sns.scatterplot(data=df, x='Wins', y='Losses', size='Points', \n",
    "                hue='Position', sizes=(50, 300), palette='viridis_r', ax=ax1)\n",
    "ax1.set_title(\"Team Performance: Wins vs Losses (Size=Points)\")\n",
    "ax1.legend(bbox_to_anchor=(1, 1))"
   ]
  },
  {
   "cell_type": "code",
   "execution_count": null,
   "id": "8ef454e6",
   "metadata": {},
   "outputs": [],
   "source": [
    "# 2. Goals Difference Bar Chart\n",
    "ax2 = plt.subplot(gs[0, 1:])\n",
    "sns.barplot(data=df.sort_values('GoalDifference', ascending=False), \n",
    "            x='Team', y='GoalDifference', palette='coolwarm', ax=ax2)\n",
    "ax2.set_title(\"Goal Difference by Team\")\n",
    "ax2.tick_params(axis='x', rotation=45)\n",
    "ax2.axhline(0, color='black', linewidth=0.5)"
   ]
  },
  {
   "cell_type": "code",
   "execution_count": null,
   "id": "b96f0f9b",
   "metadata": {},
   "outputs": [],
   "source": [
    "# 3. Wins-Draws-Losses Stacked Bar\n",
    "ax3 = plt.subplot(gs[1, :])\n",
    "df[['Team', 'Wins', 'Draws', 'Losses']].set_index('Team').plot(\n",
    "    kind='bar', stacked=True, color=['#2ecc71', '#f39c12', '#e74c3c'], ax=ax3)\n",
    "ax3.set_title(\"Wins-Draws-Losses Distribution\")\n",
    "ax3.tick_params(axis='x', rotation=45)\n",
    "ax3.legend(title='Result')"
   ]
  },
  {
   "cell_type": "code",
   "execution_count": null,
   "id": "49d87a77",
   "metadata": {},
   "outputs": [],
   "source": [
    "# 4. Points Distribution Pie Chart for the top 5 teams\n",
    "ax4 = plt.subplot(gs[2, 0])\n",
    "top_teams = df.head(5)\n",
    "top_teams.set_index('Team')['Points'].plot.pie(\n",
    "    autopct='%1.1f%%', startangle=90, \n",
    "    wedgeprops={'linewidth': 1, 'edgecolor': 'white'},\n",
    "    colors=sns.color_palette('pastel'), ax=ax4)\n",
    "ax4.set_title(\"Points Distribution (Top 5 Teams)\")\n",
    "ax4.set_ylabel('')"
   ]
  },
  {
   "cell_type": "code",
   "execution_count": null,
   "id": "7863124e",
   "metadata": {},
   "outputs": [],
   "source": [
    "# 5. Position vs Goals Radar Chart\n",
    "ax5 = plt.subplot(gs[2, 1:], polar=True)\n",
    "categories = ['Wins', 'Draws', 'Losses', 'GoalsFor', 'GoalsAgainst']\n",
    "N = len(categories)\n",
    "angles = [n / float(N) * 2 * 3.14159 for n in range(N)]\n",
    "angles += angles[:1]"
   ]
  },
  {
   "cell_type": "code",
   "execution_count": null,
   "id": "5998a3fd",
   "metadata": {},
   "outputs": [],
   "source": [
    "for i, row in df.head(3).iterrows():  # Plot top 3 teams\n",
    "    values = row[categories].tolist()\n",
    "    values += values[:1]\n",
    "    ax5.plot(angles, values, linewidth=1, linestyle='solid', \n",
    "             label=row['Team'])\n",
    "    ax5.fill(angles, values, alpha=0.1)"
   ]
  },
  {
   "cell_type": "code",
   "execution_count": null,
   "id": "a2016842",
   "metadata": {},
   "outputs": [],
   "source": [
    "ax5.set_xticks(angles[:-1])\n",
    "ax5.set_xticklabels(categories)\n",
    "ax5.set_title(\"Top 3 Teams Performance Radar Chart\")\n",
    "ax5.legend(loc='upper right')"
   ]
  },
  {
   "cell_type": "code",
   "execution_count": null,
   "id": "7761ef4b",
   "metadata": {},
   "outputs": [],
   "source": [
    "plt.tight_layout()\n",
    "plt.savefig('premier_league_visualization.png', dpi=300, bbox_inches='tight')\n",
    "plt.show()"
   ]
  },
  {
   "cell_type": "code",
   "execution_count": null,
   "id": "7445fd39",
   "metadata": {},
   "outputs": [],
   "source": [
    "# Open results\n",
    "os.system('start Premier_League2023-2024.txt')\n",
    "os.system('start premier_league_visualization.png')\n",
    "input(\"Press Enter to close...\")  "
   ]
  }
 ],
 "metadata": {
  "jupytext": {
   "cell_metadata_filter": "-all",
   "main_language": "python",
   "notebook_metadata_filter": "-all"
  }
 },
 "nbformat": 4,
 "nbformat_minor": 5
}
