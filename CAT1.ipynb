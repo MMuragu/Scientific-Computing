{
 "cells": [
  {
   "cell_type": "markdown",
   "id": "7b953dad",
   "metadata": {},
   "source": [
    " Question 1: Practical Gradient Descent Implementation (20 marks) \n",
    "You are provided with the function f(x) = x^2 - 6x + 9. \n",
    "\n",
    "a) Implement a Python function that performs gradient descent to minimize this function. \n",
    "The function should take as parameters: - the initial guess x0, - learning rate alpha, - and number of iterations n. \n",
    "The function should return the list of x-values and f(x)-values for each iteration. [10 \n",
    "Marks]  \n",
    "                                 "
   ]
  },
  {
   "cell_type": "code",
   "execution_count": 34,
   "id": "64081d5d",
   "metadata": {},
   "outputs": [],
   "source": [
    "def gradient_descent(x0, alpha, n):\n",
    "    x = x0\n",
    "    x_values = []\n",
    "    f_values = []\n",
    "    \n",
    "    for iteration in range(n):\n",
    "        # Compute current x and f(x)\n",
    "        f_x = x**2 - 6*x + 9\n",
    "        x_values.append(x)\n",
    "        f_values.append(f_x)\n",
    "        \n",
    "        # Compute gradient\n",
    "        gradient = 2 * x - 6\n",
    "        \n",
    "        # Update x\n",
    "        x = x - alpha * gradient\n",
    "    \n",
    "    return x_values, f_values\n"
   ]
  },
  {
   "cell_type": "markdown",
   "id": "a56af7b5",
   "metadata": {},
   "source": [
    "b) Run your function with x0 = 2, alpha = 0.1, and n = 10. Present the output as a table \n",
    "with columns: iteration, x-value, f(x)-value.                                                          \n",
    "[6 Marks]           "
   ]
  },
  {
   "cell_type": "code",
   "execution_count": 35,
   "id": "ca8aa162",
   "metadata": {},
   "outputs": [
    {
     "name": "stdout",
     "output_type": "stream",
     "text": [
      "Iteration |    x-value | f(x)-value\n",
      "-----------------------------------\n",
      "        0 |   2.000000 |   1.000000\n",
      "        1 |   2.200000 |   0.640000\n",
      "        2 |   2.360000 |   0.409600\n",
      "        3 |   2.488000 |   0.262144\n",
      "        4 |   2.590400 |   0.167772\n",
      "        5 |   2.672320 |   0.107374\n",
      "        6 |   2.737856 |   0.068719\n",
      "        7 |   2.790285 |   0.043980\n",
      "        8 |   2.832228 |   0.028147\n",
      "        9 |   2.865782 |   0.018014\n"
     ]
    }
   ],
   "source": [
    "x_values, f_values = gradient_descent(2, 0.1, 10)\n",
    "print(f\"{'Iteration':>9} | {'x-value':>10} | {'f(x)-value':>10}\")\n",
    "print(\"-\" * 35)\n",
    "for i in range(len(x_values)):\n",
    "    print(f\"{i:>9} | {x_values[i]:>10.6f} | {f_values[i]:>10.6f}\")\n"
   ]
  },
  {
   "cell_type": "markdown",
   "id": "f6d983b4",
   "metadata": {},
   "source": [
    "c) Explain what would happen if the learning rate were set to 1 instead of 0.1, using \n",
    "insights from your code and outputs.                                                                     \n",
    "[4 Marks] \n"
   ]
  },
  {
   "cell_type": "code",
   "execution_count": 36,
   "id": "eba01ba3",
   "metadata": {},
   "outputs": [
    {
     "data": {
      "text/plain": [
       "'\\nA learning rate of 1 would cause the updates to be too large, potentially overshooting the minimum and leading to divergence. \\nThe algorithm may oscillate or diverge instead of converging.\\nOscillation: The algorithm does not converge but instead oscillates between 2 and 4 indefinitely.\\n\\nReason: The learning rate is too large, causing the update steps to overshoot the minimum (which is at x = 3).\\n\\n'"
      ]
     },
     "execution_count": 36,
     "metadata": {},
     "output_type": "execute_result"
    }
   ],
   "source": [
    "\"\"\"\n",
    "A learning rate of 1 would cause the updates to be too large, potentially overshooting the minimum and leading to divergence. \n",
    "The algorithm may oscillate or diverge instead of converging.\n",
    "Oscillation: The algorithm does not converge but instead oscillates between 2 and 4 indefinitely.\n",
    "\n",
    "Reason: The learning rate is too large, causing the update steps to overshoot the minimum (which is at x = 3).\n",
    "\n",
    "\"\"\""
   ]
  },
  {
   "cell_type": "markdown",
   "id": "20eb166f",
   "metadata": {},
   "source": [
    "Question 2: Linear Systems with Application Context (20 marks) \n",
    "A researcher is modeling a simple electrical circuit where: \n",
    "\n",
    "- 2I1 + 3I2 = 8 (KVL Equation 1) \n",
    "- 5I1 + 7I2 = 19 (KVL Equation 2) \n",
    "\n",
    "a) Formulate this system of equations as a matrix problem and solve it using NumPy in \n",
    "Python.                                                                                                                   \n",
    "[6 Marks] \n"
   ]
  },
  {
   "cell_type": "code",
   "execution_count": 37,
   "id": "ac4f95b2",
   "metadata": {},
   "outputs": [
    {
     "name": "stdout",
     "output_type": "stream",
     "text": [
      "I1 = 1.0, I2 = 2.0\n"
     ]
    }
   ],
   "source": [
    "import numpy as np\n",
    "\n",
    "# Coefficient matrix A and constant vector b\n",
    "A = np.array([[2, 3], [5, 7]])\n",
    "b = np.array([8, 19])\n",
    "\n",
    "# Solve the system\n",
    "I = np.linalg.solve(A, b)\n",
    "\n",
    "print(f\"I1 = {I[0]}, I2 = {I[1]}\")"
   ]
  },
  {
   "cell_type": "markdown",
   "id": "d9507b3b",
   "metadata": {},
   "source": [
    "b) Modify your code to read the coefficients and constants from a `.txt` file that has the \n",
    "system in this format: \n",
    "2 3 8 \n",
    "5 7 19 \n",
    "Write code to parse the file and solve the system. [8 Marks] \n"
   ]
  },
  {
   "cell_type": "code",
   "execution_count": 38,
   "id": "643669d2",
   "metadata": {},
   "outputs": [
    {
     "name": "stdout",
     "output_type": "stream",
     "text": [
      "I1 = 1.0, I2 = 2.0\n"
     ]
    }
   ],
   "source": [
    "import numpy as np\n",
    "\n",
    "# Read the file\n",
    "with open(\"question2.txt\", \"r\") as file:\n",
    "    lines = file.readlines()\n",
    "\n",
    "# Parse coefficients and constants\n",
    "A = []\n",
    "b = []\n",
    "for line in lines:\n",
    "    parts = list(map(float, line.strip().split()))\n",
    "    A.append(parts[:2])\n",
    "    b.append(parts[2])\n",
    "\n",
    "A = np.array(A)\n",
    "b = np.array(b)\n",
    "\n",
    "# Solve the system\n",
    "I = np.linalg.solve(A, b)\n",
    "\n",
    "\n",
    "print(f\"I1 = {I[0]}, I2 = {I[1]}\")"
   ]
  },
  {
   "cell_type": "markdown",
   "id": "da5401c1",
   "metadata": {},
   "source": [
    "c) Explain one real-world implication if the matrix of coefficients were nearly singular. \n",
    "How would that affect the solution, and what could you do about it computationally? [6 \n",
    "Marks]"
   ]
  },
  {
   "cell_type": "code",
   "execution_count": 39,
   "id": "c69b1a31",
   "metadata": {},
   "outputs": [
    {
     "data": {
      "text/plain": [
       "'\\nIf the coefficient matrix A is nearly singular (i.e., its determinant is very close to zero), the system is ill-conditioned.\\n\\nThis means small errors (e.g., due to measurement noise or rounding) can lead to large changes in the solution, making the results unreliable.\\n\\nComputational Impact:\\n\\nNumerical methods (like np.linalg.solve()) may produce inaccurate solutions or fail due to numerical instability.\\n\\nsolution:\\nRegularization Techniques:\\n\\nUse methods like Tikhonov regularization (ridge regression) to stabilize the solution.\\n\\n\\n\\nSingular Value Decomposition (SVD):\\n\\nDecompose A using SVD and discard small singular values to compute a pseudo-inverse solution.\\n\\n'"
      ]
     },
     "execution_count": 39,
     "metadata": {},
     "output_type": "execute_result"
    }
   ],
   "source": [
    "\"\"\"\n",
    "If the coefficient matrix A is nearly singular (i.e., its determinant is very close to zero), the system is ill-conditioned.\n",
    "\n",
    "This means small errors (e.g., due to measurement noise or rounding) can lead to large changes in the solution, making the results unreliable.\n",
    "\n",
    "Computational Impact:\n",
    "\n",
    "Numerical methods (like np.linalg.solve()) may produce inaccurate solutions or fail due to numerical instability.\n",
    "\n",
    "solution:\n",
    "Regularization Techniques:\n",
    "\n",
    "Use methods like Tikhonov regularization (ridge regression) to stabilize the solution.\n",
    "\n",
    "\n",
    "\n",
    "Singular Value Decomposition (SVD):\n",
    "\n",
    "Decompose A using SVD and discard small singular values to compute a pseudo-inverse solution.\n",
    "\n",
    "\"\"\""
   ]
  },
  {
   "cell_type": "markdown",
   "id": "c3d93e37",
   "metadata": {},
   "source": [
    "Question 3: Data Visualization and Interpretation (20 marks) \n",
    "Given a file data.csv with two columns: Time (s) and Temperature (°C), your task is to \n",
    "analyze a heat transfer process. \n",
    "a) Write a Python script that: - reads the data using pandas, - plots a line graph of temperature vs time, - and adds labels, title, and grid.                                                                          \n",
    "[10 Marks]"
   ]
  },
  {
   "cell_type": "code",
   "execution_count": 40,
   "id": "65c167d4",
   "metadata": {},
   "outputs": [
    {
     "data": {
      "image/png": "[encoded data removed]",
      "text/plain": [
       "<Figure size 800x500 with 1 Axes>"
      ]
     },
     "metadata": {},
     "output_type": "display_data"
    }
   ],
   "source": [
    "import pandas as pd\n",
    "import matplotlib.pyplot as plt\n",
    "\n",
    "# Read the data\n",
    "data = pd.read_csv(\"data.csv\")\n",
    "\n",
    "# Plot the graph\n",
    "plt.figure(figsize=(8, 5))\n",
    "plt.plot(data[\"Time (s)\"], data[\"Temperature (°C)\"], color='red', marker='o', linestyle='-')\n",
    "\n",
    "# Add labels and title\n",
    "plt.xlabel(\"Time (s)\", fontsize=12)\n",
    "plt.ylabel(\"Temperature (°C)\", fontsize=12)\n",
    "plt.title(\"Temperature vs. Time in Heat Transfer Process\", fontsize=14)\n",
    "plt.grid(True, linestyle='--', alpha=0.6)\n",
    "\n",
    "# Show plot\n",
    "plt.show()"
   ]
  },
  {
   "cell_type": "markdown",
   "id": "26860c52",
   "metadata": {},
   "source": [
    "b) Based on your graph, explain any two observations you can make about the heating \n",
    "process (e.g., steady state, rate of change).                                                            \n",
    "[4 Marks] "
   ]
  },
  {
   "cell_type": "code",
   "execution_count": 41,
   "id": "aa99e70f",
   "metadata": {},
   "outputs": [],
   "source": [
    "#Observation 1: Rate of Heating (Slope of the Curve)\n",
    "\n",
    "#Constant Heating Rate (Linear Heating)\n",
    "#The temperature increases uniformly over time, indicating a constant heat input with negligible heat loss..\n",
    "\n",
    "\n",
    "#Observation 2: Continuous Temperature Rise\n",
    "\n",
    "#a straight line means no balance between heating and cooling"
   ]
  },
  {
   "cell_type": "markdown",
   "id": "d5316f18",
   "metadata": {},
   "source": [
    "c) Describe a situation in engineering where such visualization can be used to influence \n",
    "decision-making.                                                                                                    \n",
    "[6 Marks]"
   ]
  },
  {
   "cell_type": "code",
   "execution_count": 42,
   "id": "ec367e78",
   "metadata": {},
   "outputs": [],
   "source": [
    "#In thermal Management in Electronics Cooling\n",
    "\n",
    "#An engineer monitors the temperature of a CPU over time under different cooling conditions (e.g., air vs. liquid cooling)\n",
    "#uses cisualization in:\n",
    "#Compare Cooling Efficiency: Plot temperature vs. time for both cooling methods.\n",
    "#Faster temperature stabilization indicates better cooling.\n",
    "#Identify Overheating Risks: If temperature rises uncontrollably, the cooling solution is inadequate.\n",
    "#Optimize Fan Speed: Adjust fan speed based on the heating rate to balance noise and cooling.\n",
    "\n",
    "#Decision-Making:\n",
    "#Choosing liquid cooling if air cooling fails to prevent overheating.\n",
    "#Setting fan speed thresholds based on the heating curve."
   ]
  },
  {
   "cell_type": "markdown",
   "id": "e6cdba97",
   "metadata": {},
   "source": [
    "Question 4: ODE Simulation of Real System (20 marks) \n",
    "\n",
    "You are simulating population growth using the differential equation dy/dt = 0.5y, where \n",
    "y(0) = 100. \n",
    "\n",
    "a) Use Euler’s Method to approximate the population size after 4 time steps with step size \n",
    "h = 0.5. Show all computations.                                                                             \n",
    "[8 Marks]"
   ]
  },
  {
   "cell_type": "code",
   "execution_count": 43,
   "id": "418b0938",
   "metadata": {},
   "outputs": [
    {
     "data": {
      "text/plain": [
       "'\\nStep 0:\\nt = 0.0, y = 100.0\\nf(t,y) = 0.5*100.0 = 50.0\\ny_new = 100.0 + 0.5*50.0 = 125.0\\n\\nStep 1:\\nt = 0.5, y = 125.0\\nf(t,y) = 0.5*125.0 = 62.5\\ny_new = 125.0 + 0.5*62.5 = 156.25\\n\\nStep 2:\\nt = 1.0, y = 156.25\\nf(t,y) = 0.5*156.25 = 78.125\\ny_new = 156.25 + 0.5*78.125 = 195.3125\\n\\nStep 3:\\nt = 1.5, y = 195.3125\\nf(t,y) = 0.5*195.3125 = 97.65625\\ny_new = 195.3125 + 0.5*97.65625 = 244.140625\\n'"
      ]
     },
     "execution_count": 43,
     "metadata": {},
     "output_type": "execute_result"
    }
   ],
   "source": [
    "\"\"\"\n",
    "Step 0:\n",
    "t = 0.0, y = 100.0\n",
    "f(t,y) = 0.5*100.0 = 50.0\n",
    "y_new = 100.0 + 0.5*50.0 = 125.0\n",
    "\n",
    "Step 1:\n",
    "t = 0.5, y = 125.0\n",
    "f(t,y) = 0.5*125.0 = 62.5\n",
    "y_new = 125.0 + 0.5*62.5 = 156.25\n",
    "\n",
    "Step 2:\n",
    "t = 1.0, y = 156.25\n",
    "f(t,y) = 0.5*156.25 = 78.125\n",
    "y_new = 156.25 + 0.5*78.125 = 195.3125\n",
    "\n",
    "Step 3:\n",
    "t = 1.5, y = 195.3125\n",
    "f(t,y) = 0.5*195.3125 = 97.65625\n",
    "y_new = 195.3125 + 0.5*97.65625 = 244.140625\n",
    "\"\"\""
   ]
  },
  {
   "cell_type": "markdown",
   "id": "5a3a8e9d",
   "metadata": {},
   "source": [
    "b) Write a Python function that generalizes the Euler’s method to solve any first-order \n",
    "ODE given f(t, y), initial condition, step size, and number of steps.                   \n",
    "[6 Marks] "
   ]
  },
  {
   "cell_type": "code",
   "execution_count": 44,
   "id": "1baee352",
   "metadata": {},
   "outputs": [
    {
     "name": "stdout",
     "output_type": "stream",
     "text": [
      "Time steps: [0, 0.5, 1.0, 1.5, 2.0]\n",
      "Population values: [100, 125.0, 156.25, 195.3125, 244.140625]\n"
     ]
    }
   ],
   "source": [
    "def euler_method(f, y0, t0, h, n_steps):\n",
    "\n",
    "    t_values = [t0]\n",
    "    y_values = [y0]\n",
    "    \n",
    "    t = t0\n",
    "    y = y0\n",
    "    \n",
    "    for _ in range(n_steps):\n",
    "        y += h * f(t, y) \n",
    "        t += h\n",
    "        \n",
    "        t_values.append(t)\n",
    "        y_values.append(y)\n",
    "    \n",
    "    return t_values, y_values\n",
    "\n",
    "# Example usage for dy/dt = 0.5y, y(0)=100, h=0.5, n_steps=4\n",
    "def f(t, y):\n",
    "    return 0.5 * y\n",
    "\n",
    "t, y = euler_method(f, y0=100, t0=0, h=0.5, n_steps=4)\n",
    "print(\"Time steps:\", t)\n",
    "print(\"Population values:\", y)"
   ]
  },
  {
   "cell_type": "markdown",
   "id": "0b7777b9",
   "metadata": {},
   "source": [
    "c) Briefly explain two limitations of using Euler’s Method for real-world systems, and \n",
    "suggest one alternative method.                                                                            \n",
    "[6 Marks]"
   ]
  },
  {
   "cell_type": "code",
   "execution_count": 45,
   "id": "5c758f3b",
   "metadata": {},
   "outputs": [
    {
     "data": {
      "text/plain": [
       "'\\nLimitations:\\n1. Low Accuracy (First-Order Method)\\n\\nError accumulates quickly, especially for large step sizes.\\n\\n2. Stability Issues for Stiff Equations\\n\\nIf the ODE has rapidly changing components (e.g., chemical reactions, fast dynamics), Euler’s method may produce unstable, oscillating, or divergent solutions.\\n\\nAlternative Method: Runge-Kutta 4 (RK4)\\nHigher accuracy (4th-order) with better stability.\\n\\nMore computationally expensive but reduces error significantly.\\n'"
      ]
     },
     "execution_count": 45,
     "metadata": {},
     "output_type": "execute_result"
    }
   ],
   "source": [
    "\"\"\"\n",
    "Limitations:\n",
    "1. Low Accuracy (First-Order Method)\n",
    "\n",
    "Error accumulates quickly, especially for large step sizes.\n",
    "\n",
    "2. Stability Issues for Stiff Equations\n",
    "\n",
    "If the ODE has rapidly changing components (e.g., chemical reactions, fast dynamics), Euler’s method may produce unstable, oscillating, or divergent solutions.\n",
    "\n",
    "Alternative Method: Runge-Kutta 4 (RK4)\n",
    "Higher accuracy (4th-order) with better stability.\n",
    "\n",
    "More computationally expensive but reduces error significantly.\n",
    "\"\"\""
   ]
  }
 ],
 "metadata": {
  "jupytext": {
   "cell_metadata_filter": "-all",
   "notebook_metadata_filter": "-all"
  },
  "kernelspec": {
   "display_name": "Python 3",
   "language": "python",
   "name": "python3"
  },
  "language_info": {
   "codemirror_mode": {
    "name": "ipython",
    "version": 3
   },
   "file_extension": ".py",
   "mimetype": "text/x-python",
   "name": "python",
   "nbconvert_exporter": "python",
   "pygments_lexer": "ipython3",
   "version": "3.12.7"
  }
 },
 "nbformat": 4,
 "nbformat_minor": 5
}
